{
 "cells": [
  {
   "attachments": {},
   "cell_type": "markdown",
   "metadata": {},
   "source": [
    "## Import Libraries"
   ]
  },
  {
   "cell_type": "code",
   "execution_count": 1,
   "metadata": {},
   "outputs": [],
   "source": [
    "import numpy as np\n",
    "import pandas as pd\n",
    "import matplotlib.pyplot as plt\n",
    "import seaborn as sns\n",
    "import sklearn.metrics as metrics\n",
    "from sklearn.model_selection import train_test_split\n",
    "from sklearn.preprocessing import LabelEncoder\n",
    "from sklearn.preprocessing import StandardScaler\n",
    "from sklearn.metrics import classification_report, confusion_matrix\n",
    "from sklearn.metrics import make_scorer, accuracy_score ,precision_score,recall_score,f1_score\n",
    "\n",
    "from sklearn.linear_model import LogisticRegression\n",
    "from sklearn.neighbors import KNeighborsClassifier\n",
    "from sklearn.ensemble import RandomForestClassifier\n",
    "from sklearn import svm\n",
    "from sklearn.tree import DecisionTreeClassifier\n",
    "from sklearn.naive_bayes import GaussianNB\n",
    "\n",
    "import warnings\n",
    "warnings.filterwarnings('ignore')"
   ]
  },
  {
   "cell_type": "code",
   "execution_count": 66,
   "metadata": {},
   "outputs": [
    {
     "name": "stdout",
     "output_type": "stream",
     "text": [
      "Data read into a pandas dataframe!\n"
     ]
    }
   ],
   "source": [
    "#Memamnggil dataset dan menyimpan pada sebuah fungsi df atau dataframe\n",
    "df = pd.read_csv(r'D:\\Kuliah (D)\\MBKM2023\\Hactiv8\\PYTN_Assgn_3_4_Erika Taniya Devi Winckler\\dataset\\bank-additional-full.csv', sep=';')\n",
    "print ('Data read into a pandas dataframe!')"
   ]
  },
  {
   "cell_type": "code",
   "execution_count": 36,
   "metadata": {},
   "outputs": [
    {
     "data": {
      "text/html": [
       "<div>\n",
       "<style scoped>\n",
       "    .dataframe tbody tr th:only-of-type {\n",
       "        vertical-align: middle;\n",
       "    }\n",
       "\n",
       "    .dataframe tbody tr th {\n",
       "        vertical-align: top;\n",
       "    }\n",
       "\n",
       "    .dataframe thead th {\n",
       "        text-align: right;\n",
       "    }\n",
       "</style>\n",
       "<table border=\"1\" class=\"dataframe\">\n",
       "  <thead>\n",
       "    <tr style=\"text-align: right;\">\n",
       "      <th></th>\n",
       "      <th>age</th>\n",
       "      <th>job</th>\n",
       "      <th>marital</th>\n",
       "      <th>education</th>\n",
       "      <th>default</th>\n",
       "      <th>housing</th>\n",
       "      <th>loan</th>\n",
       "      <th>contact</th>\n",
       "      <th>month</th>\n",
       "      <th>day_of_week</th>\n",
       "      <th>...</th>\n",
       "      <th>campaign</th>\n",
       "      <th>pdays</th>\n",
       "      <th>previous</th>\n",
       "      <th>poutcome</th>\n",
       "      <th>emp.var.rate</th>\n",
       "      <th>cons.price.idx</th>\n",
       "      <th>cons.conf.idx</th>\n",
       "      <th>euribor3m</th>\n",
       "      <th>nr.employed</th>\n",
       "      <th>y</th>\n",
       "    </tr>\n",
       "  </thead>\n",
       "  <tbody>\n",
       "    <tr>\n",
       "      <th>0</th>\n",
       "      <td>56</td>\n",
       "      <td>housemaid</td>\n",
       "      <td>married</td>\n",
       "      <td>basic.4y</td>\n",
       "      <td>no</td>\n",
       "      <td>no</td>\n",
       "      <td>no</td>\n",
       "      <td>telephone</td>\n",
       "      <td>may</td>\n",
       "      <td>mon</td>\n",
       "      <td>...</td>\n",
       "      <td>1</td>\n",
       "      <td>999</td>\n",
       "      <td>0</td>\n",
       "      <td>nonexistent</td>\n",
       "      <td>1.1</td>\n",
       "      <td>93.994</td>\n",
       "      <td>-36.4</td>\n",
       "      <td>4.857</td>\n",
       "      <td>5191.0</td>\n",
       "      <td>no</td>\n",
       "    </tr>\n",
       "    <tr>\n",
       "      <th>1</th>\n",
       "      <td>57</td>\n",
       "      <td>services</td>\n",
       "      <td>married</td>\n",
       "      <td>high.school</td>\n",
       "      <td>unknown</td>\n",
       "      <td>no</td>\n",
       "      <td>no</td>\n",
       "      <td>telephone</td>\n",
       "      <td>may</td>\n",
       "      <td>mon</td>\n",
       "      <td>...</td>\n",
       "      <td>1</td>\n",
       "      <td>999</td>\n",
       "      <td>0</td>\n",
       "      <td>nonexistent</td>\n",
       "      <td>1.1</td>\n",
       "      <td>93.994</td>\n",
       "      <td>-36.4</td>\n",
       "      <td>4.857</td>\n",
       "      <td>5191.0</td>\n",
       "      <td>no</td>\n",
       "    </tr>\n",
       "    <tr>\n",
       "      <th>2</th>\n",
       "      <td>37</td>\n",
       "      <td>services</td>\n",
       "      <td>married</td>\n",
       "      <td>high.school</td>\n",
       "      <td>no</td>\n",
       "      <td>yes</td>\n",
       "      <td>no</td>\n",
       "      <td>telephone</td>\n",
       "      <td>may</td>\n",
       "      <td>mon</td>\n",
       "      <td>...</td>\n",
       "      <td>1</td>\n",
       "      <td>999</td>\n",
       "      <td>0</td>\n",
       "      <td>nonexistent</td>\n",
       "      <td>1.1</td>\n",
       "      <td>93.994</td>\n",
       "      <td>-36.4</td>\n",
       "      <td>4.857</td>\n",
       "      <td>5191.0</td>\n",
       "      <td>no</td>\n",
       "    </tr>\n",
       "    <tr>\n",
       "      <th>3</th>\n",
       "      <td>40</td>\n",
       "      <td>admin.</td>\n",
       "      <td>married</td>\n",
       "      <td>basic.6y</td>\n",
       "      <td>no</td>\n",
       "      <td>no</td>\n",
       "      <td>no</td>\n",
       "      <td>telephone</td>\n",
       "      <td>may</td>\n",
       "      <td>mon</td>\n",
       "      <td>...</td>\n",
       "      <td>1</td>\n",
       "      <td>999</td>\n",
       "      <td>0</td>\n",
       "      <td>nonexistent</td>\n",
       "      <td>1.1</td>\n",
       "      <td>93.994</td>\n",
       "      <td>-36.4</td>\n",
       "      <td>4.857</td>\n",
       "      <td>5191.0</td>\n",
       "      <td>no</td>\n",
       "    </tr>\n",
       "    <tr>\n",
       "      <th>4</th>\n",
       "      <td>56</td>\n",
       "      <td>services</td>\n",
       "      <td>married</td>\n",
       "      <td>high.school</td>\n",
       "      <td>no</td>\n",
       "      <td>no</td>\n",
       "      <td>yes</td>\n",
       "      <td>telephone</td>\n",
       "      <td>may</td>\n",
       "      <td>mon</td>\n",
       "      <td>...</td>\n",
       "      <td>1</td>\n",
       "      <td>999</td>\n",
       "      <td>0</td>\n",
       "      <td>nonexistent</td>\n",
       "      <td>1.1</td>\n",
       "      <td>93.994</td>\n",
       "      <td>-36.4</td>\n",
       "      <td>4.857</td>\n",
       "      <td>5191.0</td>\n",
       "      <td>no</td>\n",
       "    </tr>\n",
       "  </tbody>\n",
       "</table>\n",
       "<p>5 rows × 21 columns</p>\n",
       "</div>"
      ],
      "text/plain": [
       "   age        job  marital    education  default housing loan    contact  \\\n",
       "0   56  housemaid  married     basic.4y       no      no   no  telephone   \n",
       "1   57   services  married  high.school  unknown      no   no  telephone   \n",
       "2   37   services  married  high.school       no     yes   no  telephone   \n",
       "3   40     admin.  married     basic.6y       no      no   no  telephone   \n",
       "4   56   services  married  high.school       no      no  yes  telephone   \n",
       "\n",
       "  month day_of_week  ...  campaign  pdays  previous     poutcome emp.var.rate  \\\n",
       "0   may         mon  ...         1    999         0  nonexistent          1.1   \n",
       "1   may         mon  ...         1    999         0  nonexistent          1.1   \n",
       "2   may         mon  ...         1    999         0  nonexistent          1.1   \n",
       "3   may         mon  ...         1    999         0  nonexistent          1.1   \n",
       "4   may         mon  ...         1    999         0  nonexistent          1.1   \n",
       "\n",
       "   cons.price.idx  cons.conf.idx  euribor3m  nr.employed   y  \n",
       "0          93.994          -36.4      4.857       5191.0  no  \n",
       "1          93.994          -36.4      4.857       5191.0  no  \n",
       "2          93.994          -36.4      4.857       5191.0  no  \n",
       "3          93.994          -36.4      4.857       5191.0  no  \n",
       "4          93.994          -36.4      4.857       5191.0  no  \n",
       "\n",
       "[5 rows x 21 columns]"
      ]
     },
     "execution_count": 36,
     "metadata": {},
     "output_type": "execute_result"
    }
   ],
   "source": [
    "df.head(5)"
   ]
  },
  {
   "cell_type": "code",
   "execution_count": 37,
   "metadata": {},
   "outputs": [
    {
     "data": {
      "text/plain": [
       "(41188, 21)"
      ]
     },
     "execution_count": 37,
     "metadata": {},
     "output_type": "execute_result"
    }
   ],
   "source": [
    "#Mengetahui jumlah baris dan jumlah kolom dari data \n",
    "df.shape"
   ]
  },
  {
   "cell_type": "code",
   "execution_count": 49,
   "metadata": {},
   "outputs": [
    {
     "name": "stdout",
     "output_type": "stream",
     "text": [
      "<class 'pandas.core.frame.DataFrame'>\n",
      "Int64Index: 41176 entries, 0 to 41187\n",
      "Data columns (total 21 columns):\n",
      " #   Column          Non-Null Count  Dtype  \n",
      "---  ------          --------------  -----  \n",
      " 0   age             41176 non-null  int64  \n",
      " 1   job             41176 non-null  object \n",
      " 2   marital         41176 non-null  object \n",
      " 3   education       41176 non-null  object \n",
      " 4   default         41176 non-null  object \n",
      " 5   housing         41176 non-null  object \n",
      " 6   loan            41176 non-null  object \n",
      " 7   contact         41176 non-null  object \n",
      " 8   month           41176 non-null  object \n",
      " 9   day_of_week     41176 non-null  object \n",
      " 10  duration        41176 non-null  int64  \n",
      " 11  campaign        41176 non-null  int64  \n",
      " 12  pdays           41176 non-null  int64  \n",
      " 13  previous        41176 non-null  int64  \n",
      " 14  poutcome        41176 non-null  object \n",
      " 15  emp.var.rate    41176 non-null  float64\n",
      " 16  cons.price.idx  41176 non-null  float64\n",
      " 17  cons.conf.idx   41176 non-null  float64\n",
      " 18  euribor3m       41176 non-null  float64\n",
      " 19  nr.employed     41176 non-null  float64\n",
      " 20  y               41176 non-null  object \n",
      "dtypes: float64(5), int64(5), object(11)\n",
      "memory usage: 6.9+ MB\n"
     ]
    }
   ],
   "source": [
    "#Mengetahui informasi mengenai struktur dataframe\n",
    "df.info()"
   ]
  },
  {
   "cell_type": "code",
   "execution_count": 39,
   "metadata": {},
   "outputs": [
    {
     "data": {
      "text/plain": [
       "Index(['age', 'job', 'marital', 'education', 'default', 'housing', 'loan',\n",
       "       'contact', 'month', 'day_of_week', 'duration', 'campaign', 'pdays',\n",
       "       'previous', 'poutcome', 'emp.var.rate', 'cons.price.idx',\n",
       "       'cons.conf.idx', 'euribor3m', 'nr.employed', 'y'],\n",
       "      dtype='object')"
      ]
     },
     "execution_count": 39,
     "metadata": {},
     "output_type": "execute_result"
    }
   ],
   "source": [
    "#engetahui kolom yang terdapat pada data\n",
    "df.columns"
   ]
  },
  {
   "cell_type": "code",
   "execution_count": 40,
   "metadata": {},
   "outputs": [
    {
     "name": "stdout",
     "output_type": "stream",
     "text": [
      "\n",
      " age\n",
      "[56 57 37 40 45 59 41 24 25 29 35 54 46 50 39 30 55 49 34 52 58 32 38 44\n",
      " 42 60 53 47 51 48 33 31 43 36 28 27 26 22 23 20 21 61 19 18 70 66 76 67\n",
      " 73 88 95 77 68 75 63 80 62 65 72 82 64 71 69 78 85 79 83 81 74 17 87 91\n",
      " 86 98 94 84 92 89]\n",
      "\n",
      " job\n",
      "['housemaid' 'services' 'admin.' 'blue-collar' 'technician' 'retired'\n",
      " 'management' 'unemployed' 'self-employed' 'unknown' 'entrepreneur'\n",
      " 'student']\n",
      "\n",
      " marital\n",
      "['married' 'single' 'divorced' 'unknown']\n",
      "\n",
      " education\n",
      "['basic.4y' 'high.school' 'basic.6y' 'basic.9y' 'professional.course'\n",
      " 'unknown' 'university.degree' 'illiterate']\n",
      "\n",
      " default\n",
      "['no' 'unknown' 'yes']\n",
      "\n",
      " housing\n",
      "['no' 'yes' 'unknown']\n",
      "\n",
      " loan\n",
      "['no' 'yes' 'unknown']\n",
      "\n",
      " contact\n",
      "['telephone' 'cellular']\n",
      "\n",
      " month\n",
      "['may' 'jun' 'jul' 'aug' 'oct' 'nov' 'dec' 'mar' 'apr' 'sep']\n",
      "\n",
      " day_of_week\n",
      "['mon' 'tue' 'wed' 'thu' 'fri']\n",
      "\n",
      " duration\n",
      "[ 261  149  226 ... 1246 1556 1868]\n",
      "\n",
      " campaign\n",
      "[ 1  2  3  4  5  6  7  8  9 10 11 12 13 19 18 23 14 22 25 16 17 15 20 56\n",
      " 39 35 42 28 26 27 32 21 24 29 31 30 41 37 40 33 34 43]\n",
      "\n",
      " pdays\n",
      "[999   6   4   3   5   1   0  10   7   8   9  11   2  12  13  14  15  16\n",
      "  21  17  18  22  25  26  19  27  20]\n",
      "\n",
      " previous\n",
      "[0 1 2 3 4 5 6 7]\n",
      "\n",
      " poutcome\n",
      "['nonexistent' 'failure' 'success']\n",
      "\n",
      " emp.var.rate\n",
      "[ 1.1  1.4 -0.1 -0.2 -1.8 -2.9 -3.4 -3.  -1.7 -1.1]\n",
      "\n",
      " cons.price.idx\n",
      "[93.994 94.465 93.918 93.444 93.798 93.2   92.756 92.843 93.075 92.893\n",
      " 92.963 92.469 92.201 92.379 92.431 92.649 92.713 93.369 93.749 93.876\n",
      " 94.055 94.215 94.027 94.199 94.601 94.767]\n",
      "\n",
      " cons.conf.idx\n",
      "[-36.4 -41.8 -42.7 -36.1 -40.4 -42.  -45.9 -50.  -47.1 -46.2 -40.8 -33.6\n",
      " -31.4 -29.8 -26.9 -30.1 -33.  -34.8 -34.6 -40.  -39.8 -40.3 -38.3 -37.5\n",
      " -49.5 -50.8]\n",
      "\n",
      " euribor3m\n",
      "[4.857 4.856 4.855 4.859 4.86  4.858 4.864 4.865 4.866 4.967 4.961 4.959\n",
      " 4.958 4.96  4.962 4.955 4.947 4.956 4.966 4.963 4.957 4.968 4.97  4.965\n",
      " 4.964 5.045 5.    4.936 4.921 4.918 4.912 4.827 4.794 4.76  4.733 4.7\n",
      " 4.663 4.592 4.474 4.406 4.343 4.286 4.245 4.223 4.191 4.153 4.12  4.076\n",
      " 4.021 3.901 3.879 3.853 3.816 3.743 3.669 3.563 3.488 3.428 3.329 3.282\n",
      " 3.053 1.811 1.799 1.778 1.757 1.726 1.703 1.687 1.663 1.65  1.64  1.629\n",
      " 1.614 1.602 1.584 1.574 1.56  1.556 1.548 1.538 1.531 1.52  1.51  1.498\n",
      " 1.483 1.479 1.466 1.453 1.445 1.435 1.423 1.415 1.41  1.405 1.406 1.4\n",
      " 1.392 1.384 1.372 1.365 1.354 1.344 1.334 1.327 1.313 1.299 1.291 1.281\n",
      " 1.266 1.25  1.244 1.259 1.264 1.27  1.262 1.26  1.268 1.286 1.252 1.235\n",
      " 1.224 1.215 1.206 1.099 1.085 1.072 1.059 1.048 1.044 1.029 1.018 1.007\n",
      " 0.996 0.979 0.969 0.944 0.937 0.933 0.927 0.921 0.914 0.908 0.903 0.899\n",
      " 0.884 0.883 0.881 0.879 0.873 0.869 0.861 0.859 0.854 0.851 0.849 0.843\n",
      " 0.838 0.834 0.829 0.825 0.821 0.819 0.813 0.809 0.803 0.797 0.788 0.781\n",
      " 0.778 0.773 0.771 0.77  0.768 0.766 0.762 0.755 0.749 0.743 0.741 0.739\n",
      " 0.75  0.753 0.754 0.752 0.744 0.74  0.742 0.737 0.735 0.733 0.73  0.731\n",
      " 0.728 0.724 0.722 0.72  0.719 0.716 0.715 0.714 0.718 0.721 0.717 0.712\n",
      " 0.71  0.709 0.708 0.706 0.707 0.7   0.655 0.654 0.653 0.652 0.651 0.65\n",
      " 0.649 0.646 0.644 0.643 0.639 0.637 0.635 0.636 0.634 0.638 0.64  0.642\n",
      " 0.645 0.659 0.663 0.668 0.672 0.677 0.682 0.683 0.684 0.685 0.688 0.69\n",
      " 0.692 0.695 0.697 0.699 0.701 0.702 0.704 0.711 0.713 0.723 0.727 0.729\n",
      " 0.732 0.748 0.761 0.767 0.782 0.79  0.793 0.802 0.81  0.822 0.827 0.835\n",
      " 0.84  0.846 0.87  0.876 0.885 0.889 0.893 0.896 0.898 0.9   0.904 0.905\n",
      " 0.895 0.894 0.891 0.89  0.888 0.886 0.882 0.88  0.878 0.877 0.942 0.953\n",
      " 0.956 0.959 0.965 0.972 0.977 0.982 0.985 0.987 0.993 1.    1.008 1.016\n",
      " 1.025 1.032 1.037 1.043 1.045 1.047 1.05  1.049 1.046 1.041 1.04  1.039\n",
      " 1.035 1.03  1.031 1.028]\n",
      "\n",
      " nr.employed\n",
      "[5191.  5228.1 5195.8 5176.3 5099.1 5076.2 5017.5 5023.5 5008.7 4991.6\n",
      " 4963.6]\n",
      "\n",
      " y\n",
      "['no' 'yes']\n"
     ]
    }
   ],
   "source": [
    "#mengetahui nilai unique pada data kolom\n",
    "for i in df.columns:\n",
    "    print(\"\\n\", i)\n",
    "    print(df[i].unique())"
   ]
  },
  {
   "cell_type": "code",
   "execution_count": 41,
   "metadata": {},
   "outputs": [
    {
     "data": {
      "text/plain": [
       "age               0\n",
       "job               0\n",
       "marital           0\n",
       "education         0\n",
       "default           0\n",
       "housing           0\n",
       "loan              0\n",
       "contact           0\n",
       "month             0\n",
       "day_of_week       0\n",
       "duration          0\n",
       "campaign          0\n",
       "pdays             0\n",
       "previous          0\n",
       "poutcome          0\n",
       "emp.var.rate      0\n",
       "cons.price.idx    0\n",
       "cons.conf.idx     0\n",
       "euribor3m         0\n",
       "nr.employed       0\n",
       "y                 0\n",
       "dtype: int64"
      ]
     },
     "execution_count": 41,
     "metadata": {},
     "output_type": "execute_result"
    }
   ],
   "source": [
    "#mengecek data missing values\n",
    "df.isna().sum()"
   ]
  },
  {
   "cell_type": "code",
   "execution_count": 42,
   "metadata": {},
   "outputs": [
    {
     "data": {
      "text/plain": [
       "12"
      ]
     },
     "execution_count": 42,
     "metadata": {},
     "output_type": "execute_result"
    }
   ],
   "source": [
    "#mengecek data duplikat\n",
    "df.duplicated().sum()"
   ]
  },
  {
   "cell_type": "code",
   "execution_count": 43,
   "metadata": {},
   "outputs": [],
   "source": [
    "#menghapus data duplikat\n",
    "df.drop_duplicates(inplace=True)"
   ]
  },
  {
   "cell_type": "code",
   "execution_count": 60,
   "metadata": {},
   "outputs": [
    {
     "data": {
      "image/png": "[encoded data removed]",
      "text/plain": [
       "<Figure size 2000x1500 with 4 Axes>"
      ]
     },
     "metadata": {},
     "output_type": "display_data"
    }
   ],
   "source": [
    "#menampilkan grafik histogram pada kolom age duration campaign dan previous\n",
    "df[['age', 'duration', 'campaign', 'previous']].hist(bins=30, figsize=(20,15), color='blue')\n",
    "plt.show()"
   ]
  },
  {
   "cell_type": "code",
   "execution_count": null,
   "metadata": {},
   "outputs": [],
   "source": []
  },
  {
   "cell_type": "code",
   "execution_count": 50,
   "metadata": {},
   "outputs": [
    {
     "name": "stdout",
     "output_type": "stream",
     "text": [
      "job ( 12 values):\n",
      " ['admin.' 'blue-collar' 'entrepreneur' 'housemaid' 'management' 'retired'\n",
      " 'self-employed' 'services' 'student' 'technician' 'unemployed' 'unknown']\n",
      "marital ( 4 values):\n",
      " ['divorced' 'married' 'single' 'unknown']\n",
      "education ( 8 values):\n",
      " ['basic.4y' 'basic.6y' 'basic.9y' 'high.school' 'illiterate'\n",
      " 'professional.course' 'university.degree' 'unknown']\n",
      "default ( 3 values):\n",
      " ['no' 'unknown' 'yes']\n",
      "housing ( 3 values):\n",
      " ['no' 'unknown' 'yes']\n",
      "loan ( 3 values):\n",
      " ['no' 'unknown' 'yes']\n",
      "contact ( 2 values):\n",
      " ['cellular' 'telephone']\n",
      "month ( 10 values):\n",
      " ['apr' 'aug' 'dec' 'jul' 'jun' 'mar' 'may' 'nov' 'oct' 'sep']\n",
      "day_of_week ( 5 values):\n",
      " ['fri' 'mon' 'thu' 'tue' 'wed']\n",
      "poutcome ( 3 values):\n",
      " ['failure' 'nonexistent' 'success']\n",
      "y ( 2 values):\n",
      " ['no' 'yes']\n"
     ]
    }
   ],
   "source": [
    "#membuat variabel kategori untuk menampung data dengan tipe data object dan boolean\n",
    "category = df.select_dtypes(include=['object', 'bool']).columns.values\n",
    "\n",
    "for col in category:\n",
    "    print(col, \"(\", len(df[col].unique()) , \"values):\\n\", np.sort(df[col].unique()))"
   ]
  },
  {
   "attachments": {},
   "cell_type": "markdown",
   "metadata": {},
   "source": [
    "## Data Visualisasi"
   ]
  },
  {
   "cell_type": "code",
   "execution_count": 52,
   "metadata": {},
   "outputs": [
    {
     "data": {
      "image/png": "[encoded data removed]",
      "text/plain": [
       "<Figure size 1000x500 with 1 Axes>"
      ]
     },
     "metadata": {},
     "output_type": "display_data"
    },
    {
     "data": {
      "image/png": "[encoded data removed]",
      "text/plain": [
       "<Figure size 1000x500 with 1 Axes>"
      ]
     },
     "metadata": {},
     "output_type": "display_data"
    },
    {
     "data": {
      "image/png": "[encoded data removed]",
      "text/plain": [
       "<Figure size 1000x500 with 1 Axes>"
      ]
     },
     "metadata": {},
     "output_type": "display_data"
    },
    {
     "data": {
      "image/png": "[encoded data removed]",
      "text/plain": [
       "<Figure size 1000x500 with 1 Axes>"
      ]
     },
     "metadata": {},
     "output_type": "display_data"
    },
    {
     "data": {
      "image/png": "[encoded data removed]",
      "text/plain": [
       "<Figure size 1000x500 with 1 Axes>"
      ]
     },
     "metadata": {},
     "output_type": "display_data"
    },
    {
     "data": {
      "image/png": "[encoded data removed]",
      "text/plain": [
       "<Figure size 1000x500 with 1 Axes>"
      ]
     },
     "metadata": {},
     "output_type": "display_data"
    },
    {
     "data": {
      "image/png": "[encoded data removed]",
      "text/plain": [
       "<Figure size 1000x500 with 1 Axes>"
      ]
     },
     "metadata": {},
     "output_type": "display_data"
    },
    {
     "data": {
      "image/png": "[encoded data removed]",
      "text/plain": [
       "<Figure size 1000x500 with 1 Axes>"
      ]
     },
     "metadata": {},
     "output_type": "display_data"
    },
    {
     "data": {
      "image/png": "[encoded data removed]",
      "text/plain": [
       "<Figure size 1000x500 with 1 Axes>"
      ]
     },
     "metadata": {},
     "output_type": "display_data"
    },
    {
     "data": {
      "image/png": "[encoded data removed]",
      "text/plain": [
       "<Figure size 1000x500 with 1 Axes>"
      ]
     },
     "metadata": {},
     "output_type": "display_data"
    },
    {
     "data": {
      "image/png": "[encoded data removed]",
      "text/plain": [
       "<Figure size 1000x500 with 1 Axes>"
      ]
     },
     "metadata": {},
     "output_type": "display_data"
    }
   ],
   "source": [
    "#membuat barplot untuk variabel kategori\n",
    "for col in category:\n",
    "    plt.figure(figsize=(10, 5))\n",
    "    sns.barplot(x=df[col].value_counts().index, y=df[col].value_counts().values, data=df)\n",
    "    plt.title(col)\n",
    "    plt.tight_layout()\n",
    "    plt.show()"
   ]
  },
  {
   "attachments": {},
   "cell_type": "markdown",
   "metadata": {},
   "source": [
    "**Kesimpulan:** \n",
    "1. Berdasarkan kategori Job atau jenis pekerjaan, tingkatan audiens yang ingin dicapai pada promosi ini sebagian besar ditargetkan pada admin, blue-collar, dan technician. \n",
    "2. Berdasarkan kategori marital atau status pernikahan, dapat disimpulkan bahwa sebagian besar audiens sudah menikah. \n",
    "3. Berdasarkan kategori education atau pendidikan, dapat disimpulkan bahwa sebagian besar audiens berada pada tingkatan sarjana atau telah mengenyam pendidikan di universitas. \n",
    "4. Berdasarkan kategori default atau kredit, dapat disimpulkan bahwa sebagian besar audiens tidak memiliki default tetap pada kredit masing-masing audiens. \n",
    "5. Berdasarkan kategori housing atau perumahaan, dapat disimpulkan bahwa sebagian besar audiens memiliki pinjaman perumahan. \n",
    "6. Berdasarkan kategori loan, dapat disimpulkan bahwa sebagian besar audiens tidak memiliki pinjaman pribadi. \n",
    "7. Berdasarkan kategori contact, dapat disimpulkan bahwa media komunikasi yang paling banyak digunakan oleh audiens adalah cellular. \n",
    "8. Berdasarkan kategori month atau bulan, dapat disimpulkan bahwa pada bulan Mei merupakan bulan teramai, sedangkan pada bulan Desember merupakan bulan tersepi. \n",
    "9. Berdasarkan kategori day of week, dapat disimpulkan bahwa tidak banyak perbedaan yang signifikan. Namun hari Kamis merupakan hari  tersibuk dan disusul dengan hari Senin. Sedangkan hari Jumat merupakan hari yang tidak sibuk. \n",
    "10. Berdasarkan kategori Poutcome , dapat disimpulkan bahwa hasil dari pemasaran campaign sebelumnya paling banyak tidak ada dan paling sedikit yang berhasil.\n",
    "11. Berdasarkan kateori Y, dapat disimpulkan bahwa sebagian besar audiens tidak memiliki atau belum berlangganan deposito dalam jangka panjang. "
   ]
  },
  {
   "cell_type": "code",
   "execution_count": 59,
   "metadata": {},
   "outputs": [
    {
     "data": {
      "image/png": "[encoded data removed]",
      "text/plain": [
       "<Figure size 1000x600 with 1 Axes>"
      ]
     },
     "metadata": {},
     "output_type": "display_data"
    }
   ],
   "source": [
    "#membuat pie chart untuk nasabah yang berlangganan deposito berjangka\n",
    "labels = [\"Tidak \\nBerlangganan\", \"Berlangganan\"]\n",
    "colors = [\"orange\", \"yellow\"]\n",
    "explode = (0, 0.1)\n",
    "fig = plt.figure(figsize=(10,6)) \n",
    "ax = fig.add_axes([0,0,1,1]) \n",
    "\n",
    "ax.pie(df['y'].value_counts(), \n",
    "       labels = labels,\n",
    "       colors = colors,\n",
    "       explode = explode,\n",
    "       autopct ='%1.2f%%',\n",
    "       frame = True,\n",
    "       textprops = dict(color =\"black\", size=14)) \n",
    "\n",
    "ax.axis('equal') \n",
    "plt.title('Persentase Total Nasabah yang Berlangganan Deposito Berjangka',\n",
    "     color = 'black',\n",
    "     fontsize = 20\n",
    "     )\n",
    "\n",
    "plt.show()"
   ]
  },
  {
   "attachments": {},
   "cell_type": "markdown",
   "metadata": {},
   "source": [
    "Berdasarkan plot pie chart di atas maka dapat disimpullkkan bahwa hanya 11.27% saja pelanggan yang telah berlangganan deposito dan 88.73% nya belum berlangganan."
   ]
  },
  {
   "cell_type": "code",
   "execution_count": 61,
   "metadata": {},
   "outputs": [],
   "source": [
    "#membuat definisi cross_tab untuk EDA\n",
    "def cross_tab(data,f1,f2):\n",
    "    jobs=list(df[f1].unique())\n",
    "    edu=list(df[f2].unique())\n",
    "    dataframes=[]\n",
    "    for i in edu:\n",
    "        df_i=df[df[f2]==i]\n",
    "        df_i_job=df_i.groupby(f1).count()[f2]\n",
    "        dataframes.append(df_i_job)\n",
    "    new_cross=pd.concat(dataframes,axis=1)\n",
    "    new_cross.columns=edu\n",
    "    new_cross=new_cross.fillna(0)\n",
    "    return new_cross"
   ]
  },
  {
   "cell_type": "code",
   "execution_count": 62,
   "metadata": {},
   "outputs": [
    {
     "data": {
      "text/html": [
       "<div>\n",
       "<style scoped>\n",
       "    .dataframe tbody tr th:only-of-type {\n",
       "        vertical-align: middle;\n",
       "    }\n",
       "\n",
       "    .dataframe tbody tr th {\n",
       "        vertical-align: top;\n",
       "    }\n",
       "\n",
       "    .dataframe thead th {\n",
       "        text-align: right;\n",
       "    }\n",
       "</style>\n",
       "<table border=\"1\" class=\"dataframe\">\n",
       "  <thead>\n",
       "    <tr style=\"text-align: right;\">\n",
       "      <th></th>\n",
       "      <th>basic.4y</th>\n",
       "      <th>high.school</th>\n",
       "      <th>basic.6y</th>\n",
       "      <th>basic.9y</th>\n",
       "      <th>professional.course</th>\n",
       "      <th>unknown</th>\n",
       "      <th>university.degree</th>\n",
       "      <th>illiterate</th>\n",
       "    </tr>\n",
       "    <tr>\n",
       "      <th>job</th>\n",
       "      <th></th>\n",
       "      <th></th>\n",
       "      <th></th>\n",
       "      <th></th>\n",
       "      <th></th>\n",
       "      <th></th>\n",
       "      <th></th>\n",
       "      <th></th>\n",
       "    </tr>\n",
       "  </thead>\n",
       "  <tbody>\n",
       "    <tr>\n",
       "      <th>admin.</th>\n",
       "      <td>77</td>\n",
       "      <td>3329</td>\n",
       "      <td>151</td>\n",
       "      <td>499</td>\n",
       "      <td>363</td>\n",
       "      <td>249</td>\n",
       "      <td>5750</td>\n",
       "      <td>1.0</td>\n",
       "    </tr>\n",
       "    <tr>\n",
       "      <th>blue-collar</th>\n",
       "      <td>2318</td>\n",
       "      <td>878</td>\n",
       "      <td>1425</td>\n",
       "      <td>3623</td>\n",
       "      <td>453</td>\n",
       "      <td>454</td>\n",
       "      <td>94</td>\n",
       "      <td>8.0</td>\n",
       "    </tr>\n",
       "    <tr>\n",
       "      <th>entrepreneur</th>\n",
       "      <td>137</td>\n",
       "      <td>234</td>\n",
       "      <td>71</td>\n",
       "      <td>210</td>\n",
       "      <td>135</td>\n",
       "      <td>57</td>\n",
       "      <td>610</td>\n",
       "      <td>2.0</td>\n",
       "    </tr>\n",
       "    <tr>\n",
       "      <th>housemaid</th>\n",
       "      <td>474</td>\n",
       "      <td>174</td>\n",
       "      <td>77</td>\n",
       "      <td>94</td>\n",
       "      <td>59</td>\n",
       "      <td>42</td>\n",
       "      <td>139</td>\n",
       "      <td>1.0</td>\n",
       "    </tr>\n",
       "    <tr>\n",
       "      <th>management</th>\n",
       "      <td>100</td>\n",
       "      <td>298</td>\n",
       "      <td>85</td>\n",
       "      <td>166</td>\n",
       "      <td>89</td>\n",
       "      <td>123</td>\n",
       "      <td>2063</td>\n",
       "      <td>0.0</td>\n",
       "    </tr>\n",
       "    <tr>\n",
       "      <th>retired</th>\n",
       "      <td>597</td>\n",
       "      <td>276</td>\n",
       "      <td>75</td>\n",
       "      <td>145</td>\n",
       "      <td>241</td>\n",
       "      <td>97</td>\n",
       "      <td>284</td>\n",
       "      <td>3.0</td>\n",
       "    </tr>\n",
       "    <tr>\n",
       "      <th>self-employed</th>\n",
       "      <td>93</td>\n",
       "      <td>118</td>\n",
       "      <td>25</td>\n",
       "      <td>220</td>\n",
       "      <td>168</td>\n",
       "      <td>29</td>\n",
       "      <td>765</td>\n",
       "      <td>3.0</td>\n",
       "    </tr>\n",
       "    <tr>\n",
       "      <th>services</th>\n",
       "      <td>132</td>\n",
       "      <td>2680</td>\n",
       "      <td>226</td>\n",
       "      <td>388</td>\n",
       "      <td>218</td>\n",
       "      <td>150</td>\n",
       "      <td>173</td>\n",
       "      <td>0.0</td>\n",
       "    </tr>\n",
       "    <tr>\n",
       "      <th>student</th>\n",
       "      <td>26</td>\n",
       "      <td>357</td>\n",
       "      <td>13</td>\n",
       "      <td>99</td>\n",
       "      <td>43</td>\n",
       "      <td>167</td>\n",
       "      <td>170</td>\n",
       "      <td>0.0</td>\n",
       "    </tr>\n",
       "    <tr>\n",
       "      <th>technician</th>\n",
       "      <td>58</td>\n",
       "      <td>872</td>\n",
       "      <td>87</td>\n",
       "      <td>384</td>\n",
       "      <td>3317</td>\n",
       "      <td>212</td>\n",
       "      <td>1809</td>\n",
       "      <td>0.0</td>\n",
       "    </tr>\n",
       "    <tr>\n",
       "      <th>unemployed</th>\n",
       "      <td>112</td>\n",
       "      <td>259</td>\n",
       "      <td>34</td>\n",
       "      <td>186</td>\n",
       "      <td>142</td>\n",
       "      <td>19</td>\n",
       "      <td>262</td>\n",
       "      <td>0.0</td>\n",
       "    </tr>\n",
       "    <tr>\n",
       "      <th>unknown</th>\n",
       "      <td>52</td>\n",
       "      <td>37</td>\n",
       "      <td>22</td>\n",
       "      <td>31</td>\n",
       "      <td>12</td>\n",
       "      <td>131</td>\n",
       "      <td>45</td>\n",
       "      <td>0.0</td>\n",
       "    </tr>\n",
       "  </tbody>\n",
       "</table>\n",
       "</div>"
      ],
      "text/plain": [
       "               basic.4y  high.school  basic.6y  basic.9y  professional.course  \\\n",
       "job                                                                             \n",
       "admin.               77         3329       151       499                  363   \n",
       "blue-collar        2318          878      1425      3623                  453   \n",
       "entrepreneur        137          234        71       210                  135   \n",
       "housemaid           474          174        77        94                   59   \n",
       "management          100          298        85       166                   89   \n",
       "retired             597          276        75       145                  241   \n",
       "self-employed        93          118        25       220                  168   \n",
       "services            132         2680       226       388                  218   \n",
       "student              26          357        13        99                   43   \n",
       "technician           58          872        87       384                 3317   \n",
       "unemployed          112          259        34       186                  142   \n",
       "unknown              52           37        22        31                   12   \n",
       "\n",
       "               unknown  university.degree  illiterate  \n",
       "job                                                    \n",
       "admin.             249               5750         1.0  \n",
       "blue-collar        454                 94         8.0  \n",
       "entrepreneur        57                610         2.0  \n",
       "housemaid           42                139         1.0  \n",
       "management         123               2063         0.0  \n",
       "retired             97                284         3.0  \n",
       "self-employed       29                765         3.0  \n",
       "services           150                173         0.0  \n",
       "student            167                170         0.0  \n",
       "technician         212               1809         0.0  \n",
       "unemployed          19                262         0.0  \n",
       "unknown            131                 45         0.0  "
      ]
     },
     "execution_count": 62,
     "metadata": {},
     "output_type": "execute_result"
    }
   ],
   "source": [
    "#Melihat cross_tab untuk variabel job dan education\n",
    "cross_tab(df,'job','education')"
   ]
  },
  {
   "cell_type": "code",
   "execution_count": 63,
   "metadata": {},
   "outputs": [],
   "source": [
    "#Mengisi data 'unknown' pada kolom job dengan data yang relevan\n",
    "df.loc[(df['age']>60) & (df['job']=='unknown'), 'job'] = 'retired'\n",
    "df.loc[(df['education']=='unknown') & (df['job']=='management'), 'education'] = 'university.degree'\n",
    "df.loc[(df['education']=='unknown') & (df['job']=='services'), 'education'] = 'high.school'\n",
    "df.loc[(df['education']=='unknown') & (df['job']=='housemaid'), 'education'] = 'basic.4y'\n",
    "df.loc[(df['job'] == 'unknown') & (df['education']=='basic.4y'), 'job'] = 'blue-collar'\n",
    "df.loc[(df['job'] == 'unknown') & (df['education']=='basic.6y'), 'job'] = 'blue-collar'\n",
    "df.loc[(df['job'] == 'unknown') & (df['education']=='basic.9y'), 'job'] = 'blue-collar'\n",
    "df.loc[(df['job']=='unknown') & (df['education']=='professional.course'), 'job'] = 'technician'"
   ]
  },
  {
   "cell_type": "code",
   "execution_count": 65,
   "metadata": {},
   "outputs": [
    {
     "data": {
      "text/html": [
       "<div>\n",
       "<style scoped>\n",
       "    .dataframe tbody tr th:only-of-type {\n",
       "        vertical-align: middle;\n",
       "    }\n",
       "\n",
       "    .dataframe tbody tr th {\n",
       "        vertical-align: top;\n",
       "    }\n",
       "\n",
       "    .dataframe thead th {\n",
       "        text-align: right;\n",
       "    }\n",
       "</style>\n",
       "<table border=\"1\" class=\"dataframe\">\n",
       "  <thead>\n",
       "    <tr style=\"text-align: right;\">\n",
       "      <th></th>\n",
       "      <th>basic.4y</th>\n",
       "      <th>high.school</th>\n",
       "      <th>basic.6y</th>\n",
       "      <th>basic.9y</th>\n",
       "      <th>professional.course</th>\n",
       "      <th>unknown</th>\n",
       "      <th>university.degree</th>\n",
       "      <th>illiterate</th>\n",
       "    </tr>\n",
       "    <tr>\n",
       "      <th>job</th>\n",
       "      <th></th>\n",
       "      <th></th>\n",
       "      <th></th>\n",
       "      <th></th>\n",
       "      <th></th>\n",
       "      <th></th>\n",
       "      <th></th>\n",
       "      <th></th>\n",
       "    </tr>\n",
       "  </thead>\n",
       "  <tbody>\n",
       "    <tr>\n",
       "      <th>admin.</th>\n",
       "      <td>77.0</td>\n",
       "      <td>3329</td>\n",
       "      <td>151.0</td>\n",
       "      <td>499.0</td>\n",
       "      <td>363.0</td>\n",
       "      <td>249.0</td>\n",
       "      <td>5750</td>\n",
       "      <td>1.0</td>\n",
       "    </tr>\n",
       "    <tr>\n",
       "      <th>blue-collar</th>\n",
       "      <td>2366.0</td>\n",
       "      <td>878</td>\n",
       "      <td>1447.0</td>\n",
       "      <td>3654.0</td>\n",
       "      <td>453.0</td>\n",
       "      <td>454.0</td>\n",
       "      <td>94</td>\n",
       "      <td>8.0</td>\n",
       "    </tr>\n",
       "    <tr>\n",
       "      <th>entrepreneur</th>\n",
       "      <td>137.0</td>\n",
       "      <td>234</td>\n",
       "      <td>71.0</td>\n",
       "      <td>210.0</td>\n",
       "      <td>135.0</td>\n",
       "      <td>57.0</td>\n",
       "      <td>610</td>\n",
       "      <td>2.0</td>\n",
       "    </tr>\n",
       "    <tr>\n",
       "      <th>housemaid</th>\n",
       "      <td>516.0</td>\n",
       "      <td>174</td>\n",
       "      <td>77.0</td>\n",
       "      <td>94.0</td>\n",
       "      <td>59.0</td>\n",
       "      <td>0.0</td>\n",
       "      <td>139</td>\n",
       "      <td>1.0</td>\n",
       "    </tr>\n",
       "    <tr>\n",
       "      <th>management</th>\n",
       "      <td>100.0</td>\n",
       "      <td>298</td>\n",
       "      <td>85.0</td>\n",
       "      <td>166.0</td>\n",
       "      <td>89.0</td>\n",
       "      <td>0.0</td>\n",
       "      <td>2186</td>\n",
       "      <td>0.0</td>\n",
       "    </tr>\n",
       "    <tr>\n",
       "      <th>retired</th>\n",
       "      <td>601.0</td>\n",
       "      <td>276</td>\n",
       "      <td>75.0</td>\n",
       "      <td>145.0</td>\n",
       "      <td>243.0</td>\n",
       "      <td>111.0</td>\n",
       "      <td>285</td>\n",
       "      <td>3.0</td>\n",
       "    </tr>\n",
       "    <tr>\n",
       "      <th>self-employed</th>\n",
       "      <td>93.0</td>\n",
       "      <td>118</td>\n",
       "      <td>25.0</td>\n",
       "      <td>220.0</td>\n",
       "      <td>168.0</td>\n",
       "      <td>29.0</td>\n",
       "      <td>765</td>\n",
       "      <td>3.0</td>\n",
       "    </tr>\n",
       "    <tr>\n",
       "      <th>services</th>\n",
       "      <td>132.0</td>\n",
       "      <td>2830</td>\n",
       "      <td>226.0</td>\n",
       "      <td>388.0</td>\n",
       "      <td>218.0</td>\n",
       "      <td>0.0</td>\n",
       "      <td>173</td>\n",
       "      <td>0.0</td>\n",
       "    </tr>\n",
       "    <tr>\n",
       "      <th>student</th>\n",
       "      <td>26.0</td>\n",
       "      <td>357</td>\n",
       "      <td>13.0</td>\n",
       "      <td>99.0</td>\n",
       "      <td>43.0</td>\n",
       "      <td>167.0</td>\n",
       "      <td>170</td>\n",
       "      <td>0.0</td>\n",
       "    </tr>\n",
       "    <tr>\n",
       "      <th>technician</th>\n",
       "      <td>58.0</td>\n",
       "      <td>872</td>\n",
       "      <td>87.0</td>\n",
       "      <td>384.0</td>\n",
       "      <td>3327.0</td>\n",
       "      <td>212.0</td>\n",
       "      <td>1809</td>\n",
       "      <td>0.0</td>\n",
       "    </tr>\n",
       "    <tr>\n",
       "      <th>unemployed</th>\n",
       "      <td>112.0</td>\n",
       "      <td>259</td>\n",
       "      <td>34.0</td>\n",
       "      <td>186.0</td>\n",
       "      <td>142.0</td>\n",
       "      <td>19.0</td>\n",
       "      <td>262</td>\n",
       "      <td>0.0</td>\n",
       "    </tr>\n",
       "    <tr>\n",
       "      <th>unknown</th>\n",
       "      <td>0.0</td>\n",
       "      <td>37</td>\n",
       "      <td>0.0</td>\n",
       "      <td>0.0</td>\n",
       "      <td>0.0</td>\n",
       "      <td>117.0</td>\n",
       "      <td>44</td>\n",
       "      <td>0.0</td>\n",
       "    </tr>\n",
       "  </tbody>\n",
       "</table>\n",
       "</div>"
      ],
      "text/plain": [
       "               basic.4y  high.school  basic.6y  basic.9y  professional.course  \\\n",
       "job                                                                             \n",
       "admin.             77.0         3329     151.0     499.0                363.0   \n",
       "blue-collar      2366.0          878    1447.0    3654.0                453.0   \n",
       "entrepreneur      137.0          234      71.0     210.0                135.0   \n",
       "housemaid         516.0          174      77.0      94.0                 59.0   \n",
       "management        100.0          298      85.0     166.0                 89.0   \n",
       "retired           601.0          276      75.0     145.0                243.0   \n",
       "self-employed      93.0          118      25.0     220.0                168.0   \n",
       "services          132.0         2830     226.0     388.0                218.0   \n",
       "student            26.0          357      13.0      99.0                 43.0   \n",
       "technician         58.0          872      87.0     384.0               3327.0   \n",
       "unemployed        112.0          259      34.0     186.0                142.0   \n",
       "unknown             0.0           37       0.0       0.0                  0.0   \n",
       "\n",
       "               unknown  university.degree  illiterate  \n",
       "job                                                    \n",
       "admin.           249.0               5750         1.0  \n",
       "blue-collar      454.0                 94         8.0  \n",
       "entrepreneur      57.0                610         2.0  \n",
       "housemaid          0.0                139         1.0  \n",
       "management         0.0               2186         0.0  \n",
       "retired          111.0                285         3.0  \n",
       "self-employed     29.0                765         3.0  \n",
       "services           0.0                173         0.0  \n",
       "student          167.0                170         0.0  \n",
       "technician       212.0               1809         0.0  \n",
       "unemployed        19.0                262         0.0  \n",
       "unknown          117.0                 44         0.0  "
      ]
     },
     "execution_count": 65,
     "metadata": {},
     "output_type": "execute_result"
    }
   ],
   "source": [
    "cross_tab(df,'job','education')"
   ]
  },
  {
   "cell_type": "code",
   "execution_count": 67,
   "metadata": {},
   "outputs": [
    {
     "data": {
      "text/html": [
       "<div>\n",
       "<style scoped>\n",
       "    .dataframe tbody tr th:only-of-type {\n",
       "        vertical-align: middle;\n",
       "    }\n",
       "\n",
       "    .dataframe tbody tr th {\n",
       "        vertical-align: top;\n",
       "    }\n",
       "\n",
       "    .dataframe thead th {\n",
       "        text-align: right;\n",
       "    }\n",
       "</style>\n",
       "<table border=\"1\" class=\"dataframe\">\n",
       "  <thead>\n",
       "    <tr style=\"text-align: right;\">\n",
       "      <th></th>\n",
       "      <th>no</th>\n",
       "      <th>yes</th>\n",
       "      <th>unknown</th>\n",
       "    </tr>\n",
       "    <tr>\n",
       "      <th>job</th>\n",
       "      <th></th>\n",
       "      <th></th>\n",
       "      <th></th>\n",
       "    </tr>\n",
       "  </thead>\n",
       "  <tbody>\n",
       "    <tr>\n",
       "      <th>admin.</th>\n",
       "      <td>4636</td>\n",
       "      <td>5559</td>\n",
       "      <td>227</td>\n",
       "    </tr>\n",
       "    <tr>\n",
       "      <th>blue-collar</th>\n",
       "      <td>4304</td>\n",
       "      <td>4710</td>\n",
       "      <td>240</td>\n",
       "    </tr>\n",
       "    <tr>\n",
       "      <th>entrepreneur</th>\n",
       "      <td>641</td>\n",
       "      <td>779</td>\n",
       "      <td>36</td>\n",
       "    </tr>\n",
       "    <tr>\n",
       "      <th>housemaid</th>\n",
       "      <td>491</td>\n",
       "      <td>540</td>\n",
       "      <td>29</td>\n",
       "    </tr>\n",
       "    <tr>\n",
       "      <th>management</th>\n",
       "      <td>1363</td>\n",
       "      <td>1490</td>\n",
       "      <td>71</td>\n",
       "    </tr>\n",
       "    <tr>\n",
       "      <th>retired</th>\n",
       "      <td>784</td>\n",
       "      <td>892</td>\n",
       "      <td>44</td>\n",
       "    </tr>\n",
       "    <tr>\n",
       "      <th>self-employed</th>\n",
       "      <td>641</td>\n",
       "      <td>740</td>\n",
       "      <td>40</td>\n",
       "    </tr>\n",
       "    <tr>\n",
       "      <th>services</th>\n",
       "      <td>1818</td>\n",
       "      <td>2050</td>\n",
       "      <td>101</td>\n",
       "    </tr>\n",
       "    <tr>\n",
       "      <th>student</th>\n",
       "      <td>381</td>\n",
       "      <td>471</td>\n",
       "      <td>23</td>\n",
       "    </tr>\n",
       "    <tr>\n",
       "      <th>technician</th>\n",
       "      <td>2980</td>\n",
       "      <td>3616</td>\n",
       "      <td>147</td>\n",
       "    </tr>\n",
       "    <tr>\n",
       "      <th>unemployed</th>\n",
       "      <td>430</td>\n",
       "      <td>557</td>\n",
       "      <td>27</td>\n",
       "    </tr>\n",
       "    <tr>\n",
       "      <th>unknown</th>\n",
       "      <td>153</td>\n",
       "      <td>172</td>\n",
       "      <td>5</td>\n",
       "    </tr>\n",
       "  </tbody>\n",
       "</table>\n",
       "</div>"
      ],
      "text/plain": [
       "                 no   yes  unknown\n",
       "job                               \n",
       "admin.         4636  5559      227\n",
       "blue-collar    4304  4710      240\n",
       "entrepreneur    641   779       36\n",
       "housemaid       491   540       29\n",
       "management     1363  1490       71\n",
       "retired         784   892       44\n",
       "self-employed   641   740       40\n",
       "services       1818  2050      101\n",
       "student         381   471       23\n",
       "technician     2980  3616      147\n",
       "unemployed      430   557       27\n",
       "unknown         153   172        5"
      ]
     },
     "execution_count": 67,
     "metadata": {},
     "output_type": "execute_result"
    }
   ],
   "source": [
    "cross_tab(df,'job','housing')"
   ]
  },
  {
   "attachments": {},
   "cell_type": "markdown",
   "metadata": {},
   "source": [
    "Melakukan data cleansing pada kolom unknown"
   ]
  },
  {
   "cell_type": "code",
   "execution_count": 68,
   "metadata": {},
   "outputs": [],
   "source": [
    "df = df[df.housing != 'unknown']\n",
    "df = df[df.loan != 'unknown']\n",
    "df = df[df.default != 'unknown']\n",
    "df = df[df.job != 'unknown']\n",
    "df = df[df.marital != 'unknown']\n",
    "df = df[df.education != 'unknown']"
   ]
  },
  {
   "cell_type": "code",
   "execution_count": 70,
   "metadata": {},
   "outputs": [
    {
     "data": {
      "text/html": [
       "<div>\n",
       "<style scoped>\n",
       "    .dataframe tbody tr th:only-of-type {\n",
       "        vertical-align: middle;\n",
       "    }\n",
       "\n",
       "    .dataframe tbody tr th {\n",
       "        vertical-align: top;\n",
       "    }\n",
       "\n",
       "    .dataframe thead th {\n",
       "        text-align: right;\n",
       "    }\n",
       "</style>\n",
       "<table border=\"1\" class=\"dataframe\">\n",
       "  <thead>\n",
       "    <tr style=\"text-align: right;\">\n",
       "      <th></th>\n",
       "      <th>no</th>\n",
       "      <th>yes</th>\n",
       "    </tr>\n",
       "    <tr>\n",
       "      <th>job</th>\n",
       "      <th></th>\n",
       "      <th></th>\n",
       "    </tr>\n",
       "  </thead>\n",
       "  <tbody>\n",
       "    <tr>\n",
       "      <th>admin.</th>\n",
       "      <td>3959</td>\n",
       "      <td>4778</td>\n",
       "    </tr>\n",
       "    <tr>\n",
       "      <th>blue-collar</th>\n",
       "      <td>2658</td>\n",
       "      <td>3017</td>\n",
       "    </tr>\n",
       "    <tr>\n",
       "      <th>entrepreneur</th>\n",
       "      <td>487</td>\n",
       "      <td>602</td>\n",
       "    </tr>\n",
       "    <tr>\n",
       "      <th>housemaid</th>\n",
       "      <td>326</td>\n",
       "      <td>364</td>\n",
       "    </tr>\n",
       "    <tr>\n",
       "      <th>management</th>\n",
       "      <td>1090</td>\n",
       "      <td>1221</td>\n",
       "    </tr>\n",
       "    <tr>\n",
       "      <th>retired</th>\n",
       "      <td>554</td>\n",
       "      <td>662</td>\n",
       "    </tr>\n",
       "    <tr>\n",
       "      <th>self-employed</th>\n",
       "      <td>500</td>\n",
       "      <td>592</td>\n",
       "    </tr>\n",
       "    <tr>\n",
       "      <th>services</th>\n",
       "      <td>1355</td>\n",
       "      <td>1502</td>\n",
       "    </tr>\n",
       "    <tr>\n",
       "      <th>student</th>\n",
       "      <td>282</td>\n",
       "      <td>328</td>\n",
       "    </tr>\n",
       "    <tr>\n",
       "      <th>technician</th>\n",
       "      <td>2437</td>\n",
       "      <td>3036</td>\n",
       "    </tr>\n",
       "    <tr>\n",
       "      <th>unemployed</th>\n",
       "      <td>319</td>\n",
       "      <td>419</td>\n",
       "    </tr>\n",
       "  </tbody>\n",
       "</table>\n",
       "</div>"
      ],
      "text/plain": [
       "                 no   yes\n",
       "job                      \n",
       "admin.         3959  4778\n",
       "blue-collar    2658  3017\n",
       "entrepreneur    487   602\n",
       "housemaid       326   364\n",
       "management     1090  1221\n",
       "retired         554   662\n",
       "self-employed   500   592\n",
       "services       1355  1502\n",
       "student         282   328\n",
       "technician     2437  3036\n",
       "unemployed      319   419"
      ]
     },
     "execution_count": 70,
     "metadata": {},
     "output_type": "execute_result"
    }
   ],
   "source": [
    "cross_tab(df,'job','housing')"
   ]
  },
  {
   "cell_type": "code",
   "execution_count": 71,
   "metadata": {},
   "outputs": [
    {
     "data": {
      "image/png": "[encoded data removed]",
      "text/plain": [
       "<Figure size 640x480 with 1 Axes>"
      ]
     },
     "metadata": {},
     "output_type": "display_data"
    }
   ],
   "source": [
    "#membuat plot histogram untuk pdays\n",
    "plt.hist(df['pdays'])\n",
    "plt.title('Histogram untuk Pdays')\n",
    "plt.xlabel('Total Hari Terakhir')\n",
    "plt.ylabel('Total Nasabah yang dihubungi')\n",
    "plt.show()"
   ]
  },
  {
   "attachments": {},
   "cell_type": "markdown",
   "metadata": {},
   "source": [
    "Dari hasil data histogram di atas dapat disimpulkan bahwa hari terakhir menghubungi nasaah di sekitar hari ke - 999 yang dimana terdapat kerancuan yang mengidinkasikan bahwa nasabah sebelumnya tidak dihubungi. Sehingga nilai ini perlu diubah menjadi value kategorie."
   ]
  },
  {
   "cell_type": "code",
   "execution_count": 72,
   "metadata": {},
   "outputs": [],
   "source": [
    "df['pdays_missing'] = 0\n",
    "df['pdays_less_5'] = 0\n",
    "df['pdays_greater_15'] = 0\n",
    "df['pdays_bet_5_15'] = 0\n",
    "df['pdays_missing'][df['pdays']==999] = 1\n",
    "df['pdays_less_5'][df['pdays']<5] = 1\n",
    "df['pdays_greater_15'][(df['pdays']>15) & (df['pdays']<999)] = 1\n",
    "df['pdays_bet_5_15'][(df['pdays']>=5)&(df['pdays']<=15)]= 1"
   ]
  },
  {
   "attachments": {},
   "cell_type": "markdown",
   "metadata": {},
   "source": [
    "Encode Data"
   ]
  },
  {
   "cell_type": "code",
   "execution_count": 73,
   "metadata": {},
   "outputs": [
    {
     "data": {
      "text/html": [
       "<div>\n",
       "<style scoped>\n",
       "    .dataframe tbody tr th:only-of-type {\n",
       "        vertical-align: middle;\n",
       "    }\n",
       "\n",
       "    .dataframe tbody tr th {\n",
       "        vertical-align: top;\n",
       "    }\n",
       "\n",
       "    .dataframe thead th {\n",
       "        text-align: right;\n",
       "    }\n",
       "</style>\n",
       "<table border=\"1\" class=\"dataframe\">\n",
       "  <thead>\n",
       "    <tr style=\"text-align: right;\">\n",
       "      <th></th>\n",
       "      <th>age</th>\n",
       "      <th>job</th>\n",
       "      <th>marital</th>\n",
       "      <th>education</th>\n",
       "      <th>default</th>\n",
       "      <th>housing</th>\n",
       "      <th>loan</th>\n",
       "      <th>contact</th>\n",
       "      <th>month</th>\n",
       "      <th>day_of_week</th>\n",
       "      <th>...</th>\n",
       "      <th>emp.var.rate</th>\n",
       "      <th>cons.price.idx</th>\n",
       "      <th>cons.conf.idx</th>\n",
       "      <th>euribor3m</th>\n",
       "      <th>nr.employed</th>\n",
       "      <th>y</th>\n",
       "      <th>pdays_missing</th>\n",
       "      <th>pdays_less_5</th>\n",
       "      <th>pdays_greater_15</th>\n",
       "      <th>pdays_bet_5_15</th>\n",
       "    </tr>\n",
       "  </thead>\n",
       "  <tbody>\n",
       "    <tr>\n",
       "      <th>0</th>\n",
       "      <td>56</td>\n",
       "      <td>3</td>\n",
       "      <td>1</td>\n",
       "      <td>0</td>\n",
       "      <td>0</td>\n",
       "      <td>0</td>\n",
       "      <td>0</td>\n",
       "      <td>1</td>\n",
       "      <td>6</td>\n",
       "      <td>1</td>\n",
       "      <td>...</td>\n",
       "      <td>1.1</td>\n",
       "      <td>93.994</td>\n",
       "      <td>-36.4</td>\n",
       "      <td>4.857</td>\n",
       "      <td>5191.0</td>\n",
       "      <td>0</td>\n",
       "      <td>1</td>\n",
       "      <td>0</td>\n",
       "      <td>0</td>\n",
       "      <td>0</td>\n",
       "    </tr>\n",
       "    <tr>\n",
       "      <th>2</th>\n",
       "      <td>37</td>\n",
       "      <td>7</td>\n",
       "      <td>1</td>\n",
       "      <td>3</td>\n",
       "      <td>0</td>\n",
       "      <td>1</td>\n",
       "      <td>0</td>\n",
       "      <td>1</td>\n",
       "      <td>6</td>\n",
       "      <td>1</td>\n",
       "      <td>...</td>\n",
       "      <td>1.1</td>\n",
       "      <td>93.994</td>\n",
       "      <td>-36.4</td>\n",
       "      <td>4.857</td>\n",
       "      <td>5191.0</td>\n",
       "      <td>0</td>\n",
       "      <td>1</td>\n",
       "      <td>0</td>\n",
       "      <td>0</td>\n",
       "      <td>0</td>\n",
       "    </tr>\n",
       "    <tr>\n",
       "      <th>3</th>\n",
       "      <td>40</td>\n",
       "      <td>0</td>\n",
       "      <td>1</td>\n",
       "      <td>1</td>\n",
       "      <td>0</td>\n",
       "      <td>0</td>\n",
       "      <td>0</td>\n",
       "      <td>1</td>\n",
       "      <td>6</td>\n",
       "      <td>1</td>\n",
       "      <td>...</td>\n",
       "      <td>1.1</td>\n",
       "      <td>93.994</td>\n",
       "      <td>-36.4</td>\n",
       "      <td>4.857</td>\n",
       "      <td>5191.0</td>\n",
       "      <td>0</td>\n",
       "      <td>1</td>\n",
       "      <td>0</td>\n",
       "      <td>0</td>\n",
       "      <td>0</td>\n",
       "    </tr>\n",
       "    <tr>\n",
       "      <th>4</th>\n",
       "      <td>56</td>\n",
       "      <td>7</td>\n",
       "      <td>1</td>\n",
       "      <td>3</td>\n",
       "      <td>0</td>\n",
       "      <td>0</td>\n",
       "      <td>1</td>\n",
       "      <td>1</td>\n",
       "      <td>6</td>\n",
       "      <td>1</td>\n",
       "      <td>...</td>\n",
       "      <td>1.1</td>\n",
       "      <td>93.994</td>\n",
       "      <td>-36.4</td>\n",
       "      <td>4.857</td>\n",
       "      <td>5191.0</td>\n",
       "      <td>0</td>\n",
       "      <td>1</td>\n",
       "      <td>0</td>\n",
       "      <td>0</td>\n",
       "      <td>0</td>\n",
       "    </tr>\n",
       "    <tr>\n",
       "      <th>6</th>\n",
       "      <td>59</td>\n",
       "      <td>0</td>\n",
       "      <td>1</td>\n",
       "      <td>5</td>\n",
       "      <td>0</td>\n",
       "      <td>0</td>\n",
       "      <td>0</td>\n",
       "      <td>1</td>\n",
       "      <td>6</td>\n",
       "      <td>1</td>\n",
       "      <td>...</td>\n",
       "      <td>1.1</td>\n",
       "      <td>93.994</td>\n",
       "      <td>-36.4</td>\n",
       "      <td>4.857</td>\n",
       "      <td>5191.0</td>\n",
       "      <td>0</td>\n",
       "      <td>1</td>\n",
       "      <td>0</td>\n",
       "      <td>0</td>\n",
       "      <td>0</td>\n",
       "    </tr>\n",
       "  </tbody>\n",
       "</table>\n",
       "<p>5 rows × 25 columns</p>\n",
       "</div>"
      ],
      "text/plain": [
       "   age  job  marital  education  default  housing  loan  contact  month  \\\n",
       "0   56    3        1          0        0        0     0        1      6   \n",
       "2   37    7        1          3        0        1     0        1      6   \n",
       "3   40    0        1          1        0        0     0        1      6   \n",
       "4   56    7        1          3        0        0     1        1      6   \n",
       "6   59    0        1          5        0        0     0        1      6   \n",
       "\n",
       "   day_of_week  ...  emp.var.rate  cons.price.idx  cons.conf.idx  euribor3m  \\\n",
       "0            1  ...           1.1          93.994          -36.4      4.857   \n",
       "2            1  ...           1.1          93.994          -36.4      4.857   \n",
       "3            1  ...           1.1          93.994          -36.4      4.857   \n",
       "4            1  ...           1.1          93.994          -36.4      4.857   \n",
       "6            1  ...           1.1          93.994          -36.4      4.857   \n",
       "\n",
       "   nr.employed  y  pdays_missing  pdays_less_5  pdays_greater_15  \\\n",
       "0       5191.0  0              1             0                 0   \n",
       "2       5191.0  0              1             0                 0   \n",
       "3       5191.0  0              1             0                 0   \n",
       "4       5191.0  0              1             0                 0   \n",
       "6       5191.0  0              1             0                 0   \n",
       "\n",
       "   pdays_bet_5_15  \n",
       "0               0  \n",
       "2               0  \n",
       "3               0  \n",
       "4               0  \n",
       "6               0  \n",
       "\n",
       "[5 rows x 25 columns]"
      ]
     },
     "execution_count": 73,
     "metadata": {},
     "output_type": "execute_result"
    }
   ],
   "source": [
    "#Encode data variabel kategori dengan encoder label\n",
    "kategoris = ['job','marital','education','default','housing','loan','contact','month','day_of_week','poutcome','y']\n",
    "label_encoder = LabelEncoder()\n",
    "for cols in kategoris:\n",
    "    df[cols] = label_encoder.fit_transform(df[cols])\n",
    "df.head()"
   ]
  },
  {
   "attachments": {},
   "cell_type": "markdown",
   "metadata": {},
   "source": [
    "Defining Model"
   ]
  },
  {
   "cell_type": "code",
   "execution_count": 74,
   "metadata": {},
   "outputs": [],
   "source": [
    "train,test = train_test_split(df,test_size = 0.30 ,random_state = 350)\n",
    "    \n",
    "#Memisahkan variabel dependen dan independen pada data training dan testing\n",
    "x_train = train.drop(labels='y',axis=1)\n",
    "y_train = train['y']\n",
    "x_test  = test.drop(labels='y',axis=1)\n",
    "y_test  = test['y']\n",
    "\n",
    "\n",
    "scaler = StandardScaler()\n",
    "x_train = scaler.fit_transform(x_train)"
   ]
  },
  {
   "attachments": {},
   "cell_type": "markdown",
   "metadata": {},
   "source": [
    "Logistic Regression"
   ]
  },
  {
   "cell_type": "code",
   "execution_count": 75,
   "metadata": {},
   "outputs": [
    {
     "name": "stdout",
     "output_type": "stream",
     "text": [
      "\n",
      "\n",
      "\n",
      "              precision    recall  f1-score   support\n",
      "\n",
      "           0       0.92      0.97      0.94      7993\n",
      "           1       0.67      0.39      0.50      1154\n",
      "\n",
      "    accuracy                           0.90      9147\n",
      "   macro avg       0.80      0.68      0.72      9147\n",
      "weighted avg       0.89      0.90      0.89      9147\n",
      "\n"
     ]
    }
   ],
   "source": [
    "#Membuat model logistic regression\n",
    "log_reg = LogisticRegression(solver='liblinear', C=0.05, multi_class='ovr', random_state=50)\n",
    "log_reg.fit(x_train, y_train)\n",
    "\n",
    "\n",
    "x_test = scaler.transform(x_test) #untuk menguji dataset\n",
    "y_pred = log_reg.predict(x_test) #memprediksi output\n",
    "\n",
    "\n",
    "print('\\n\\n')\n",
    "print(classification_report(y_test, y_pred))"
   ]
  },
  {
   "cell_type": "code",
   "execution_count": 76,
   "metadata": {},
   "outputs": [
    {
     "name": "stdout",
     "output_type": "stream",
     "text": [
      "[[7775  218]\n",
      " [ 702  452]]\n"
     ]
    }
   ],
   "source": [
    "#Confusion matrix\n",
    "cm = confusion_matrix(y_test, y_pred)\n",
    "print(cm)"
   ]
  },
  {
   "cell_type": "code",
   "execution_count": 77,
   "metadata": {},
   "outputs": [
    {
     "name": "stdout",
     "output_type": "stream",
     "text": [
      "Akurasi untuk Logistic Regression: 0.8994205750519296\n"
     ]
    }
   ],
   "source": [
    "#Akurasi dari Logistic Regression\n",
    "print('Akurasi untuk Logistic Regression:', log_reg.score(x_test, y_test))"
   ]
  },
  {
   "attachments": {},
   "cell_type": "markdown",
   "metadata": {},
   "source": [
    "K-Nearest Neighbors"
   ]
  },
  {
   "cell_type": "code",
   "execution_count": 78,
   "metadata": {},
   "outputs": [],
   "source": [
    "#Membuat model K-Nearest Neighbors\n",
    "KNN = KNeighborsClassifier(n_neighbors=50)\n",
    "KNN.fit(x_train, y_train)\n",
    "y_pred1 = KNN.predict(x_test)"
   ]
  },
  {
   "cell_type": "code",
   "execution_count": 79,
   "metadata": {},
   "outputs": [
    {
     "name": "stdout",
     "output_type": "stream",
     "text": [
      "[[7833  160]\n",
      " [ 836  318]]\n"
     ]
    }
   ],
   "source": [
    "#Confusion matrix\n",
    "cm1 = confusion_matrix(y_test, y_pred1)\n",
    "print(cm1)"
   ]
  },
  {
   "cell_type": "code",
   "execution_count": 80,
   "metadata": {},
   "outputs": [
    {
     "name": "stdout",
     "output_type": "stream",
     "text": [
      "Akurasi untuk K-Nearest Neighbors: 0.8911118399475237\n"
     ]
    }
   ],
   "source": [
    "#Akurasi dari K-Nearest Neighbors\n",
    "print(\"Akurasi untuk K-Nearest Neighbors:\",metrics.accuracy_score(y_test, y_pred1))"
   ]
  },
  {
   "attachments": {},
   "cell_type": "markdown",
   "metadata": {},
   "source": [
    "Support Vector Machine"
   ]
  },
  {
   "cell_type": "code",
   "execution_count": 81,
   "metadata": {},
   "outputs": [],
   "source": [
    "svm_model = svm.SVC(kernel='linear') # Linear Kernel\n",
    "\n",
    "# Train the model using the training sets\n",
    "svm_model.fit(x_train, y_train) \n",
    "\n",
    "# Predict the response for test dataset\n",
    "y_pred2 = svm_model.predict(x_test)"
   ]
  },
  {
   "cell_type": "code",
   "execution_count": 82,
   "metadata": {},
   "outputs": [
    {
     "name": "stdout",
     "output_type": "stream",
     "text": [
      "[[7808  185]\n",
      " [ 827  327]]\n"
     ]
    }
   ],
   "source": [
    "#Confusion matrix\n",
    "cm2 = confusion_matrix(y_test, y_pred2)\n",
    "print(cm2)"
   ]
  },
  {
   "cell_type": "code",
   "execution_count": 83,
   "metadata": {},
   "outputs": [
    {
     "name": "stdout",
     "output_type": "stream",
     "text": [
      "Akurasi untuk Support Vector Machine: 0.8893626325571226\n"
     ]
    }
   ],
   "source": [
    "#Akurasi dari Support Vector Machine\n",
    "print(\"Akurasi untuk Support Vector Machine:\", metrics.accuracy_score(y_test, y_pred2))"
   ]
  },
  {
   "attachments": {},
   "cell_type": "markdown",
   "metadata": {},
   "source": [
    "Decission Tree Clasifier"
   ]
  },
  {
   "cell_type": "code",
   "execution_count": 84,
   "metadata": {},
   "outputs": [],
   "source": [
    "dtc = DecisionTreeClassifier(criterion=\"entropy\", max_depth=5)\n",
    "\n",
    "# Train Decision Tree Classifer\n",
    "dtc = dtc.fit(x_train,y_train)\n",
    "\n",
    "# Predict the response for test dataset\n",
    "y_pred3 = dtc.predict(x_test)"
   ]
  },
  {
   "cell_type": "code",
   "execution_count": 85,
   "metadata": {},
   "outputs": [
    {
     "name": "stdout",
     "output_type": "stream",
     "text": [
      "[[7614  379]\n",
      " [ 486  668]]\n"
     ]
    }
   ],
   "source": [
    "#Confusion matrix\n",
    "cm3 = confusion_matrix(y_test, y_pred3)\n",
    "print(cm3)"
   ]
  },
  {
   "cell_type": "code",
   "execution_count": 86,
   "metadata": {},
   "outputs": [
    {
     "name": "stdout",
     "output_type": "stream",
     "text": [
      "Akurasi untuk Decision Tree: 0.9054334754564338\n"
     ]
    }
   ],
   "source": [
    "#Akurasi dari Decision Tree\n",
    "print(\"Akurasi untuk Decision Tree:\",metrics.accuracy_score(y_test, y_pred3))"
   ]
  },
  {
   "attachments": {},
   "cell_type": "markdown",
   "metadata": {},
   "source": [
    "Random Forest Classifier"
   ]
  },
  {
   "cell_type": "code",
   "execution_count": 87,
   "metadata": {},
   "outputs": [],
   "source": [
    "#Membuat model Random Forest\n",
    "rfc = RandomForestClassifier(n_estimators=100)\n",
    " \n",
    "# Train the model using the training\n",
    "rfc.fit(x_train,y_train) \n",
    "\n",
    "y_pred4 = rfc.predict(x_test)"
   ]
  },
  {
   "cell_type": "code",
   "execution_count": 88,
   "metadata": {},
   "outputs": [
    {
     "name": "stdout",
     "output_type": "stream",
     "text": [
      "[[7707  286]\n",
      " [ 573  581]]\n"
     ]
    }
   ],
   "source": [
    "#Confusion Matrix\n",
    "cm4 = confusion_matrix(y_test, y_pred4)\n",
    "print(cm4)"
   ]
  },
  {
   "cell_type": "code",
   "execution_count": 89,
   "metadata": {},
   "outputs": [
    {
     "name": "stdout",
     "output_type": "stream",
     "text": [
      "Akurasi untuk Random Forest: 0.9060894282278342\n"
     ]
    }
   ],
   "source": [
    "#Akurasi untuk Random Forest\n",
    "print(\"Akurasi untuk Random Forest:\",metrics.accuracy_score(y_test, y_pred4))"
   ]
  },
  {
   "attachments": {},
   "cell_type": "markdown",
   "metadata": {},
   "source": [
    "Naive Bayes"
   ]
  },
  {
   "cell_type": "code",
   "execution_count": 90,
   "metadata": {},
   "outputs": [],
   "source": [
    "# Create a Gaussian Classifier\n",
    "gnb = GaussianNB()\n",
    "\n",
    "# Train the model using the training sets\n",
    "gnb.fit(x_train, y_train)\n",
    "\n",
    "# Predict the response for test dataset\n",
    "y_pred5 = gnb.predict(x_test)"
   ]
  },
  {
   "cell_type": "code",
   "execution_count": 91,
   "metadata": {},
   "outputs": [
    {
     "name": "stdout",
     "output_type": "stream",
     "text": [
      "[[5310 2683]\n",
      " [ 145 1009]]\n"
     ]
    }
   ],
   "source": [
    "#Confusion Matrix\n",
    "cm5 = confusion_matrix(y_test, y_pred5)\n",
    "print(cm5)"
   ]
  },
  {
   "cell_type": "code",
   "execution_count": 92,
   "metadata": {},
   "outputs": [
    {
     "name": "stdout",
     "output_type": "stream",
     "text": [
      "Akurasi untuk Naive Bayes: 0.6908275937465835\n"
     ]
    }
   ],
   "source": [
    "#Akurasi dari Naive Bayes\n",
    "print(\"Akurasi untuk Naive Bayes:\",metrics.accuracy_score(y_test, y_pred5))"
   ]
  },
  {
   "attachments": {},
   "cell_type": "markdown",
   "metadata": {},
   "source": [
    "Model Evaluation"
   ]
  },
  {
   "cell_type": "code",
   "execution_count": 93,
   "metadata": {},
   "outputs": [
    {
     "name": "stdout",
     "output_type": "stream",
     "text": [
      "Berikut ini merupakan akurasi dari berbagai macam model:\n",
      "Logistic Regression: 0.8994205750519296\n",
      "K-Nearest Neighbors: 0.8911118399475237\n",
      "Support Vector Machine: 0.8893626325571226\n",
      "Decision Tree: 0.9054334754564338\n",
      "Random Forest: 0.9060894282278342\n",
      "Naive Bayes: 0.6908275937465835\n"
     ]
    }
   ],
   "source": [
    "#Kumpulan akurasi:\n",
    "print(\"Berikut ini merupakan akurasi dari berbagai macam model:\")\n",
    "print(\"Logistic Regression:\",metrics.accuracy_score(y_test, y_pred))\n",
    "print(\"K-Nearest Neighbors:\",metrics.accuracy_score(y_test, y_pred1))\n",
    "print(\"Support Vector Machine:\",metrics.accuracy_score(y_test, y_pred2))\n",
    "print(\"Decision Tree:\",metrics.accuracy_score(y_test, y_pred3))\n",
    "print(\"Random Forest:\",metrics.accuracy_score(y_test, y_pred4))\n",
    "print(\"Naive Bayes:\",metrics.accuracy_score(y_test, y_pred5))"
   ]
  },
  {
   "attachments": {},
   "cell_type": "markdown",
   "metadata": {},
   "source": [
    "## Kesimpulan\n",
    "Setelah dilakukan analisis dari model evaluasi yang telah dilakukan sebelumnya, dapat disimpulkan bahwa model **Random Forest** memiliki nilai akurasi tertinggi yaitu sebesar **0.9060894282278342** untuk memprediksi nasabah bank di masa yang akan datang."
   ]
  }
 ],
 "metadata": {
  "kernelspec": {
   "display_name": "Python 3",
   "language": "python",
   "name": "python3"
  },
  "language_info": {
   "codemirror_mode": {
    "name": "ipython",
    "version": 3
   },
   "file_extension": ".py",
   "mimetype": "text/x-python",
   "name": "python",
   "nbconvert_exporter": "python",
   "pygments_lexer": "ipython3",
   "version": "3.10.2"
  },
  "orig_nbformat": 4
 },
 "nbformat": 4,
 "nbformat_minor": 2
}
